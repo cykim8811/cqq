{
 "cells": [
  {
   "cell_type": "code",
   "execution_count": 1,
   "metadata": {},
   "outputs": [],
   "source": [
    "import numpy as np\n",
    "import tensornetwork as tn"
   ]
  },
  {
   "cell_type": "code",
   "execution_count": 2,
   "metadata": {},
   "outputs": [],
   "source": [
    "nCX = np.array([\n",
    "    [1, 0, 0, 0],\n",
    "    [0, 1, 0, 0],\n",
    "    [0, 0, 0, 1],\n",
    "    [0, 0, 1, 0]\n",
    "]).reshape(2, 2, 2, 2)\n",
    "\n",
    "CX = tn.Node(nCX)"
   ]
  },
  {
   "cell_type": "code",
   "execution_count": 3,
   "metadata": {},
   "outputs": [],
   "source": [
    "def test(P):    # a_in, b_in, a_out, b_out\n",
    "    P = P.copy()\n",
    "    ZERO = tn.Node(np.array([1, 0]))\n",
    "    P = tn.contract(P[1] ^ ZERO[0])\n",
    "    t = P.tensor.reshape(2, 4)\n",
    "    return t[0] - t[1]\n",
    "\n",
    "def untangle(P, T):\n",
    "    T = tn.Node(np.array(T).reshape(2, 4).T)\n",
    "    P = P.copy()\n",
    "    ZERO = tn.Node(np.array([1, 0]))\n",
    "    P = tn.contract(P[1] ^ ZERO[0])\n",
    "    P = tn.Node(P.tensor.reshape(2, 4))\n",
    "    print(\"P:\", P.tensor)\n",
    "    print(\"T:\", T.tensor)\n",
    "    P = tn.contract(P[1] ^ T[0])\n",
    "    return tn.Node(P.tensor.reshape(2, 2))\n",
    "    "
   ]
  },
  {
   "cell_type": "code",
   "execution_count": 4,
   "metadata": {},
   "outputs": [
    {
     "name": "stdout",
     "output_type": "stream",
     "text": [
      "P: [[1 0 0 0]\n",
      " [0 0 0 1]]\n",
      "T: [[1 1]\n",
      " [0 0]\n",
      " [0 0]\n",
      " [1 1]]\n",
      "rank: 1\n",
      "[1 1]\n",
      "[1 1]\n"
     ]
    }
   ],
   "source": [
    "test(CX)\n",
    "res = untangle(CX, [1, 0, 0, 1, 1, 0, 0, 1])\n",
    "print(f\"rank: {np.linalg.matrix_rank(res.tensor)}\")\n",
    "\n",
    "ZERO = tn.Node(np.array([1, 0]))\n",
    "ONE = tn.Node(np.array([0, 1]))\n",
    "print(tn.contract(ZERO[0] ^ res.copy()[0]).tensor)\n",
    "print(tn.contract(ONE[0] ^ res.copy()[0]).tensor)"
   ]
  },
  {
   "cell_type": "code",
   "execution_count": 5,
   "metadata": {},
   "outputs": [
    {
     "name": "stdout",
     "output_type": "stream",
     "text": [
      "[[-0.99  0.12 -0.03 -0.05]\n",
      " [-0.08 -0.73  0.49 -0.47]\n",
      " [-0.04 -0.57 -0.82  0.03]\n",
      " [-0.09 -0.36  0.29  0.88]]\n",
      "[[ 9.9790e-01  4.0000e-04 -5.7000e-03 -6.8000e-03]\n",
      " [ 4.0000e-04  1.0003e+00  3.4000e-03 -1.5000e-03]\n",
      " [-5.7000e-03  3.4000e-03  9.9980e-01 -2.6000e-03]\n",
      " [-6.8000e-03 -1.5000e-03 -2.6000e-03  9.9620e-01]]\n"
     ]
    }
   ],
   "source": [
    "# Random 4x4 unitary matrix\n",
    "U = np.random.rand(4, 4)\n",
    "U, _ = np.linalg.qr(U)\n",
    "U = U.round(2)\n",
    "\n",
    "U = tn.Node(U.reshape(2, 2, 2, 2))\n",
    "U4 = U.tensor.reshape(4, 4)\n",
    "print(U4)\n",
    "print(U4 @ U4.T)"
   ]
  },
  {
   "cell_type": "code",
   "execution_count": 6,
   "metadata": {},
   "outputs": [],
   "source": [
    "U = tn.Node(\n",
    "    np.array([\n",
    "        [-0.08, 0.14, 0.96, -0.23],\n",
    "        [-0.75, -0.06, 0.11, 0.65],\n",
    "        [-0.62, -0.28, -0.18, -0.71],\n",
    "        [-0.22, 0.95, -0.19, -0.13]\n",
    "    ]).reshape(2, 2, 2, 2)\n",
    ")"
   ]
  },
  {
   "cell_type": "code",
   "execution_count": 7,
   "metadata": {},
   "outputs": [
    {
     "name": "stdout",
     "output_type": "stream",
     "text": [
      "[0.54 0.42 1.14 0.48]\n",
      "P: [[-0.08  0.14  0.96 -0.23]\n",
      " [-0.62 -0.28 -0.18 -0.71]]\n",
      "T: [[ 2.5   2.5 ]\n",
      " [ 1.    1.  ]\n",
      " [ 1.    1.  ]\n",
      " [-1.66 -1.66]]\n",
      "rank: 1\n",
      "[1.2818 1.2818]\n",
      "[-0.8314 -0.8314]\n"
     ]
    }
   ],
   "source": [
    "print(test(U))\n",
    "res = untangle(U, [2.5, 1, 1, -1.66, 2.5, 1, 1, -1.66])\n",
    "print(f\"rank: {np.linalg.matrix_rank(res.tensor)}\")\n",
    "\n",
    "ZERO = tn.Node(np.array([1, 0]))\n",
    "ONE = tn.Node(np.array([0, 1]))\n",
    "print(tn.contract(ZERO[0] ^ res.copy()[0]).tensor)\n",
    "print(tn.contract(ONE[0] ^ res.copy()[0]).tensor)"
   ]
  },
  {
   "cell_type": "code",
   "execution_count": 111,
   "metadata": {},
   "outputs": [
    {
     "name": "stdout",
     "output_type": "stream",
     "text": [
      "000  0.071\n",
      "001  -0.071\n",
      "010  -0.954\n",
      "011  0.954\n",
      "100  -0.610\n",
      "101  0.610\n",
      "110  -0.273\n",
      "111  0.273\n",
      "[1.65 0.  ]\n"
     ]
    }
   ],
   "source": [
    "P = U.copy()\n",
    "Z = tn.Node(np.array([1, 0]))\n",
    "T = tn.Node(np.array([0.6, -0.6, 0.85, -0.85, -0.85, 0.85, 0.6, -0.6]).reshape(2, 2, 2))\n",
    "kd = tn.Node(np.array([1, 0, 0, 0, 0, 0, 0, 1]).reshape(2, 2, 2))\n",
    "tn.connect(P[1], Z[0])\n",
    "tn.connect(P[2], kd[0])\n",
    "tn.connect(kd[1], T[0])\n",
    "tn.connect(P[3], T[1])\n",
    "R = tn.contractors.auto([P, Z, T, kd], output_edge_order=[P[0], kd[2], T[2]])\n",
    "for i in range(8):\n",
    "    print(f\"{i:03b}  {R.tensor.flatten()[i]:.3f}\")\n",
    "\n",
    "s = np.linalg.svd(R.tensor.reshape(4, 2), compute_uv=False)\n",
    "print(s.round(3))"
   ]
  },
  {
   "cell_type": "code",
   "execution_count": 108,
   "metadata": {},
   "outputs": [
    {
     "data": {
      "text/plain": [
       "array([[-0.883,  0.883],\n",
       "       [-0.883,  0.883]])"
      ]
     },
     "execution_count": 108,
     "metadata": {},
     "output_type": "execute_result"
    }
   ],
   "source": [
    "P = U.copy()\n",
    "Z = tn.Node(np.array([1, 0]))\n",
    "T = tn.Node(np.array([0.6, 0.85, -0.85, 0.6, -0.6, -0.85, 0.85, -0.6]).reshape(2, 2, 2))\n",
    "tn.connect(P[1], Z[0])\n",
    "tn.connect(P[2], T[1])\n",
    "tn.connect(P[3], T[2])\n",
    "R = tn.contractors.auto([P, Z, T], output_edge_order=[P[0], T[0]])\n",
    "R.tensor.reshape(2, 2)"
   ]
  },
  {
   "cell_type": "code",
   "execution_count": 105,
   "metadata": {},
   "outputs": [],
   "source": [
    "U = U.copy()\n",
    "R = tn.contract(tn.connect(U[1], tn.Node(np.array([1, 0]))[0]))"
   ]
  },
  {
   "cell_type": "code",
   "execution_count": 106,
   "metadata": {},
   "outputs": [
    {
     "name": "stdout",
     "output_type": "stream",
     "text": [
      "0 0    0.03\n",
      "0 1    0.97\n",
      "1 0    0.46\n",
      "1 1    0.54\n"
     ]
    }
   ],
   "source": [
    "R.tensor.shape  # (2, 2, 2)\n",
    "t = []\n",
    "for i in range(2):\n",
    "    for j in range(2):\n",
    "        print(f\"{i} {j}   \", round(R.tensor[i, j, 0] ** 2 + R.tensor[i, j, 1] ** 2, 2))\n"
   ]
  },
  {
   "cell_type": "code",
   "execution_count": 113,
   "metadata": {},
   "outputs": [
    {
     "data": {
      "text/plain": [
       "array([0.00550834, 0.99449166, 0.4065969 , 0.08143849])"
      ]
     },
     "execution_count": 113,
     "metadata": {},
     "output_type": "execute_result"
    }
   ],
   "source": [
    "t = np.array([-0.071, 0.954, 0.610, 0.273])\n",
    "t = t ** 2\n",
    "t = t / sum(np.array([-0.071, 0.954]) ** 2)\n",
    "t"
   ]
  },
  {
   "cell_type": "code",
   "execution_count": 101,
   "metadata": {},
   "outputs": [
    {
     "data": {
      "text/plain": [
       "np.float64(4.44089209850063e-19)"
      ]
     },
     "execution_count": 101,
     "metadata": {},
     "output_type": "execute_result"
    }
   ],
   "source": [
    "np.array([0.54, 0.42, 1.14, 0.48]) @ np.array([0.6, 0.85, -0.85, 0.6])"
   ]
  }
 ],
 "metadata": {
  "kernelspec": {
   "display_name": "quantum",
   "language": "python",
   "name": "python3"
  },
  "language_info": {
   "codemirror_mode": {
    "name": "ipython",
    "version": 3
   },
   "file_extension": ".py",
   "mimetype": "text/x-python",
   "name": "python",
   "nbconvert_exporter": "python",
   "pygments_lexer": "ipython3",
   "version": "3.12.4"
  }
 },
 "nbformat": 4,
 "nbformat_minor": 2
}
