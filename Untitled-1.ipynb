{
 "cells": [
  {
   "cell_type": "code",
   "execution_count": 20,
   "metadata": {},
   "outputs": [],
   "source": [
    "import tensornetwork as tn\n",
    "import numpy as np\n",
    "import matplotlib.pyplot as plt"
   ]
  },
  {
   "cell_type": "code",
   "execution_count": 192,
   "metadata": {},
   "outputs": [],
   "source": [
    "\n",
    "def x(target):\n",
    "    xmat = np.array([[0, 1], [1, 0]])\n",
    "    xnode = tn.Node(xmat, name='x')\n",
    "    target ^ xnode[0]\n",
    "    return xnode[1]\n",
    "\n",
    "def cx(control, target):\n",
    "    cxmat = np.eye(4).reshape(2,2,2,2)\n",
    "    cxmat[1,0,1,0] = 0\n",
    "    cxmat[1,1,1,1] = 0\n",
    "    cxmat[1,1,1,0] = 1\n",
    "    cxmat[1,0,1,1] = 1\n",
    "    cxnode = tn.Node(cxmat, name='cx')\n",
    "    control ^ cxnode[0]\n",
    "    target ^ cxnode[1]\n",
    "    return cxnode[2], cxnode[3]\n",
    "\n",
    "def mcx(controls, target, mask=None):\n",
    "    n_ctrl = len(controls)\n",
    "    if mask is None: mask = [1]*n_ctrl\n",
    "    mcxmat = np.eye(2**(n_ctrl+1)).reshape([2]*(n_ctrl+1)*2)\n",
    "    mcxmat[tuple(mask + [1] + mask + [1])] = 0\n",
    "    mcxmat[tuple(mask + [0] + mask + [0])] = 0\n",
    "    mcxmat[tuple(mask + [0] + mask + [1])] = 1\n",
    "    mcxmat[tuple(mask + [1] + mask + [0])] = 1\n",
    "    \n",
    "    mcxnode = tn.Node(mcxmat, name='mcx')\n",
    "\n",
    "    for i in range(n_ctrl):\n",
    "        controls[i] ^ mcxnode[i]\n",
    "    target ^ mcxnode[n_ctrl]\n",
    "\n",
    "    return mcxnode[n_ctrl+1:-1], mcxnode[-1]"
   ]
  },
  {
   "cell_type": "code",
   "execution_count": 202,
   "metadata": {},
   "outputs": [
    {
     "name": "stdout",
     "output_type": "stream",
     "text": [
      "|11001>: +1.00 +0.00i\n"
     ]
    },
    {
     "data": {
      "image/png": "[encoded data removed]",
      "text/plain": [
       "<Figure size 640x480 with 1 Axes>"
      ]
     },
     "metadata": {},
     "output_type": "display_data"
    }
   ],
   "source": [
    "N = 4\n",
    "nodes = []\n",
    "with tn.NodeCollection(nodes) as nc:\n",
    "    q0n = tn.Node(np.array([1,0]), name='q0')\n",
    "    q1n = tn.Node(np.array([0,1]), name='q1')\n",
    "    q2n = tn.Node(np.array([1,0]), name='q2')\n",
    "    q3n = tn.Node(np.array([1,0]), name='q3')\n",
    "    ancn = tn.Node(np.array([0, 1]), name='anc')\n",
    "\n",
    "    \n",
    "    q0 = q0n[0]\n",
    "    q1 = q1n[0]\n",
    "    q2 = q2n[0]\n",
    "    q3 = q3n[0]\n",
    "    anc = ancn[0]\n",
    "\n",
    "    # [q0, q1, q2], q3 = mcx([q0, q1, q2], q3, [1, 1, 1])\n",
    "\n",
    "    anc, q0 = cx(anc, q0)\n",
    "    q0, anc = cx(q0, anc)\n",
    "\n",
    "    anc, q1 = cx(anc, q1)\n",
    "    [q0, q1], anc = mcx([q0, q1], anc, [0, 1])\n",
    "\n",
    "    anc, q2 = cx(anc, q2)\n",
    "    [q0, q1, q2], anc = mcx([q0, q1, q2], anc, [0, 0, 1])\n",
    "    \n",
    "    anc, q3 = cx(anc, q3)\n",
    "\n",
    "    anc = x(anc)\n",
    "    \n",
    "    # [q0, q1, q2], anc = mcx([q0, q1, q2], anc, [0, 0, 0])\n",
    "\n",
    "    # rmn = tn.Node(np.array([0, 1]), name='rm')\n",
    "    # rm = rmn[0]\n",
    "\n",
    "    # anc ^ rm\n",
    "\n",
    "\n",
    "graph = tn.to_graphviz(nodes)\n",
    "\n",
    "\n",
    "res = tn.contractors.optimal(nodes, output_edge_order=[q0, q1, q2, q3, anc])\n",
    "for i, v in enumerate(res.tensor.flat):\n",
    "    if abs(v) < 1e-10: continue\n",
    "    name = f\"|{i:0{N}b}>\"\n",
    "    value_real = f'+{v.real:.2f}' if v.real >= 0 else f'{v.real:.2f}'\n",
    "    value_imag = f'+{v.imag:.2f}i' if v.imag >= 0 else f'{v.imag:.2f}i'\n",
    "    print(f\"{name}: {value_real} {value_imag}\")\n",
    "\n",
    "graph = tn.to_graphviz([res])\n",
    "\n",
    "graph_image = graph.render(format='png', cleanup=True)\n",
    "plt.imshow(plt.imread(graph_image))\n",
    "plt.axis('off')\n",
    "plt.show()\n"
   ]
  },
  {
   "cell_type": "code",
   "execution_count": 184,
   "metadata": {},
   "outputs": [
    {
     "name": "stdout",
     "output_type": "stream",
     "text": [
      "1\n",
      "Number of tensors in MPS: 1\n",
      "Shape of the single tensor: (2, 2, 2, 2, 2, 2, 2, 2)\n",
      "Physical dimensions: [2]\n",
      "Bond dimensions: [2, 2]\n"
     ]
    },
    {
     "ename": "AttributeError",
     "evalue": "'FiniteMPS' object has no attribute 'nodes'",
     "output_type": "error",
     "traceback": [
      "\u001b[0;31m---------------------------------------------------------------------------\u001b[0m",
      "\u001b[0;31mAttributeError\u001b[0m                            Traceback (most recent call last)",
      "Cell \u001b[0;32mIn[184], line 22\u001b[0m\n\u001b[1;32m     19\u001b[0m \u001b[38;5;28mprint\u001b[39m(\u001b[38;5;124mf\u001b[39m\u001b[38;5;124m\"\u001b[39m\u001b[38;5;124mPhysical dimensions: \u001b[39m\u001b[38;5;132;01m{\u001b[39;00mmps\u001b[38;5;241m.\u001b[39mphysical_dimensions\u001b[38;5;132;01m}\u001b[39;00m\u001b[38;5;124m\"\u001b[39m)\n\u001b[1;32m     20\u001b[0m \u001b[38;5;28mprint\u001b[39m(\u001b[38;5;124mf\u001b[39m\u001b[38;5;124m\"\u001b[39m\u001b[38;5;124mBond dimensions: \u001b[39m\u001b[38;5;132;01m{\u001b[39;00mmps\u001b[38;5;241m.\u001b[39mbond_dimensions\u001b[38;5;132;01m}\u001b[39;00m\u001b[38;5;124m\"\u001b[39m)\n\u001b[0;32m---> 22\u001b[0m graph \u001b[38;5;241m=\u001b[39m tn\u001b[38;5;241m.\u001b[39mto_graphviz(\u001b[43mmps\u001b[49m\u001b[38;5;241;43m.\u001b[39;49m\u001b[43mnodes\u001b[49m)\n\u001b[1;32m     24\u001b[0m graph_image \u001b[38;5;241m=\u001b[39m graph\u001b[38;5;241m.\u001b[39mrender(\u001b[38;5;28mformat\u001b[39m\u001b[38;5;241m=\u001b[39m\u001b[38;5;124m'\u001b[39m\u001b[38;5;124mpng\u001b[39m\u001b[38;5;124m'\u001b[39m, cleanup\u001b[38;5;241m=\u001b[39m\u001b[38;5;28;01mTrue\u001b[39;00m)\n\u001b[1;32m     25\u001b[0m plt\u001b[38;5;241m.\u001b[39mimshow(plt\u001b[38;5;241m.\u001b[39mimread(graph_image))\n",
      "\u001b[0;31mAttributeError\u001b[0m: 'FiniteMPS' object has no attribute 'nodes'"
     ]
    }
   ],
   "source": [
    "\n",
    "mask = [1, 1, 0]\n",
    "\n",
    "\n",
    "mcxmat = np.eye(2**(len(mask)+1)).reshape([2]*(len(mask)+1)*2)\n",
    "mcxmat[tuple(mask + [1] + mask + [1])] = 0\n",
    "mcxmat[tuple(mask + [0] + mask + [0])] = 0\n",
    "mcxmat[tuple(mask + [0] + mask + [1])] = 1\n",
    "mcxmat[tuple(mask + [1] + mask + [0])] = 1\n",
    "\n",
    "\n",
    "mcxnode = tn.Node(mcxmat, name='mcx')\n",
    "\n",
    "mps = tn.FiniteMPS([mcxnode.tensor])\n",
    "\n",
    "print(len(mps.tensors))\n",
    "\n",
    "print(f\"Number of tensors in MPS: {len(mps.tensors)}\")\n",
    "print(f\"Shape of the single tensor: {mps.tensors[0].shape}\")\n",
    "print(f\"Physical dimensions: {mps.physical_dimensions}\")\n",
    "print(f\"Bond dimensions: {mps.bond_dimensions}\")\n",
    "\n",
    "graph = tn.to_graphviz(mps.nodes)\n",
    "\n",
    "graph_image = graph.render(format='png', cleanup=True)\n",
    "plt.imshow(plt.imread(graph_image))\n",
    "plt.axis('off')\n",
    "plt.show()\n",
    "\n",
    "print(mcxnode.tensor.shape)"
   ]
  },
  {
   "cell_type": "code",
   "execution_count": 111,
   "metadata": {},
   "outputs": [
    {
     "name": "stdout",
     "output_type": "stream",
     "text": [
      "Matrix 0\n",
      "(2, 2, 2, 2, 16)\n",
      "Matrix 1\n",
      "(16, 16)\n",
      "Matrix 2\n",
      "(16, 2, 2, 2, 2)\n",
      "Matrix 3\n"
     ]
    },
    {
     "ename": "AttributeError",
     "evalue": "'numpy.ndarray' object has no attribute 'tensor'",
     "output_type": "error",
     "traceback": [
      "\u001b[0;31m---------------------------------------------------------------------------\u001b[0m",
      "\u001b[0;31mAttributeError\u001b[0m                            Traceback (most recent call last)",
      "Cell \u001b[0;32mIn[111], line 5\u001b[0m\n\u001b[1;32m      3\u001b[0m \u001b[38;5;28;01mfor\u001b[39;00m i, m \u001b[38;5;129;01min\u001b[39;00m \u001b[38;5;28menumerate\u001b[39m(mps):\n\u001b[1;32m      4\u001b[0m     \u001b[38;5;28mprint\u001b[39m(\u001b[38;5;124mf\u001b[39m\u001b[38;5;124m\"\u001b[39m\u001b[38;5;124mMatrix \u001b[39m\u001b[38;5;132;01m{\u001b[39;00mi\u001b[38;5;132;01m}\u001b[39;00m\u001b[38;5;124m\"\u001b[39m)\n\u001b[0;32m----> 5\u001b[0m     \u001b[38;5;28mprint\u001b[39m(\u001b[43mm\u001b[49m\u001b[38;5;241;43m.\u001b[39;49m\u001b[43mtensor\u001b[49m\u001b[38;5;241m.\u001b[39mshape)\n",
      "\u001b[0;31mAttributeError\u001b[0m: 'numpy.ndarray' object has no attribute 'tensor'"
     ]
    }
   ],
   "source": [
    "mps = tn.split_node_full_svd(mcxnode, mcxnode[:4], mcxnode[4:])\n",
    "\n",
    "for i, m in enumerate(mps):\n",
    "    print(f\"Matrix {i}\")\n",
    "    print(m.tensor.shape)"
   ]
  },
  {
   "cell_type": "code",
   "execution_count": null,
   "metadata": {},
   "outputs": [],
   "source": [
    "\"\"\"메모\n",
    "\n",
    "\n",
    "큐빗들의 정보량을 트래킹 하는거임.\n",
    "\n",
    "근데 단일 큐빗에 정보가 옮겨지는 것 뿐만 아니라 얽힘 자체에도 정보가 있을 수 있으니\n",
    "\n",
    "이렇게 하는거임\n",
    "\n",
    "q0, q1, q2, q3 이 있다고 해보자.\n",
    "\n",
    "처음에는\n",
    "\n",
    "1 0 0 0\n",
    "0 1 0 0\n",
    "0 0 1 0\n",
    "0 0 0 1\n",
    "\n",
    "여기에 cx(q0, q1)을 하면\n",
    "\n",
    "0.5  0.5  0.0  0.0\n",
    "0.5  0.5  0.0  0.0\n",
    "0.0  0.0  1.0  0.0\n",
    "0.0  0.0  0.0  1.0\n",
    "\n",
    "이렇게 됨.\n",
    "\n",
    "h(q2)를 하면\n",
    "\n",
    "0.5  0.5  0.0  0.0\n",
    "0.5  0.5  0.0  0.0\n",
    "0.0  0.0  0+1j 0.0\n",
    "0.0  0.0  0.0  1.0\n",
    "\n",
    "이렇게 될걸로 예상. 일단은 고려하지 않음.\n",
    "\n",
    "\n",
    "x게이트는 정보량을 바꾸지 않음.\n",
    "\n",
    "\n",
    "\n",
    "\n",
    "\"\"\""
   ]
  }
 ],
 "metadata": {
  "kernelspec": {
   "display_name": "quantum",
   "language": "python",
   "name": "python3"
  },
  "language_info": {
   "codemirror_mode": {
    "name": "ipython",
    "version": 3
   },
   "file_extension": ".py",
   "mimetype": "text/x-python",
   "name": "python",
   "nbconvert_exporter": "python",
   "pygments_lexer": "ipython3",
   "version": "3.12.4"
  }
 },
 "nbformat": 4,
 "nbformat_minor": 2
}
