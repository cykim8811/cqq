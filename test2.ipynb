{
 "cells": [
  {
   "cell_type": "code",
   "execution_count": 1,
   "metadata": {},
   "outputs": [],
   "source": [
    "import numpy as np\n",
    "import matplotlib.pyplot as plt\n",
    "import tensornetwork as tn"
   ]
  },
  {
   "cell_type": "code",
   "execution_count": 2,
   "metadata": {},
   "outputs": [],
   "source": [
    "nCX = np.array([\n",
    "    [1, 0, 0, 0],\n",
    "    [0, 1, 0, 0],\n",
    "    [0, 0, 0, 1],\n",
    "    [0, 0, 1, 0]\n",
    "]).reshape(2, 2, 2, 2)"
   ]
  },
  {
   "cell_type": "code",
   "execution_count": 3,
   "metadata": {},
   "outputs": [],
   "source": [
    "CX = tn.Node(nCX)"
   ]
  },
  {
   "cell_type": "code",
   "execution_count": 4,
   "metadata": {},
   "outputs": [],
   "source": [
    "def untangle(P, T):    # (a_in, b_in, a_out, b_out)\n",
    "    A, B, _ = tn.split_node(P, [P[0], P[2]], [P[1], P[3]])\n",
    "    kd = tn.Node((np.array([1,0,0,0,0,0,0,1])*np.sqrt(2)).reshape(2,2,2))\n",
    "    tn.connect(A[1], kd[0])\n",
    "    tn.connect(B[2], T[1])\n",
    "    tn.connect(kd[1], T[0])\n",
    "    res = tn.contractors.auto([A, B, kd, T], output_edge_order=[A[0], B[1], kd[2], T[2]])\n",
    "    return res\n"
   ]
  },
  {
   "cell_type": "code",
   "execution_count": 7,
   "metadata": {},
   "outputs": [],
   "source": [
    "def create_random_unitary():\n",
    "    # Create a random unitary 4x4 matrix\n",
    "    U = np.random.rand(4, 4) # + 1j * np.random.rand(4, 4)\n",
    "    U, _ = np.linalg.qr(U)\n",
    "    return U.round(3)"
   ]
  },
  {
   "cell_type": "code",
   "execution_count": 8,
   "metadata": {},
   "outputs": [
    {
     "name": "stdout",
     "output_type": "stream",
     "text": [
      "|00 00> -0.737\n",
      "|00 01> 0.397\n",
      "|00 10> 0.441\n",
      "|00 11> 0.325\n",
      "|01 00> -0.24\n",
      "|01 01> -0.91\n",
      "|01 10> 0.25\n",
      "|01 11> 0.228\n",
      "|10 00> -0.477\n",
      "|10 01> -0.108\n",
      "|10 10> -0.06\n",
      "|10 11> -0.87\n",
      "|11 00> -0.414\n",
      "|11 01> -0.054\n",
      "|11 10> -0.86\n",
      "|11 11> 0.293\n"
     ]
    }
   ],
   "source": [
    "target = tn.Node(create_random_unitary().reshape(2, 2, 2, 2))\n",
    "for i in range(16):\n",
    "    print(f\"|{(i&0b1100)>>2:02b} {i&0b0011:02b}>\", target.tensor.flatten()[i])"
   ]
  },
  {
   "cell_type": "code",
   "execution_count": null,
   "metadata": {},
   "outputs": [],
   "source": []
  },
  {
   "cell_type": "code",
   "execution_count": 10,
   "metadata": {},
   "outputs": [
    {
     "name": "stdout",
     "output_type": "stream",
     "text": [
      "rank: 4\n"
     ]
    },
    {
     "data": {
      "text/plain": [
       "array([[-1.0422754 ,  0.56144278,  0.45961941,  0.62366818],\n",
       "       [-0.33941125, -1.28693434,  0.32244069,  0.35355339],\n",
       "       [-0.67457987, -0.15273506, -1.2303658 , -0.08485281],\n",
       "       [-0.58548441, -0.07636753,  0.41436457, -1.21622366]])"
      ]
     },
     "execution_count": 10,
     "metadata": {},
     "output_type": "execute_result"
    }
   ],
   "source": [
    "T = tn.Node(np.array([\n",
    "    1, 0, 0, 1, 0, 1, 1, 0\n",
    "]).reshape(2, 2, 2))\n",
    "res = untangle(target, T)\n",
    "print(f\"rank: {np.linalg.matrix_rank(res.tensor.transpose(0, 2, 1, 3).reshape(4, 4))}\")\n",
    "res.tensor.reshape(4, 4)"
   ]
  },
  {
   "cell_type": "code",
   "execution_count": 42,
   "metadata": {},
   "outputs": [
    {
     "data": {
      "text/plain": [
       "<map at 0x7f6c546301c0>"
      ]
     },
     "execution_count": 42,
     "metadata": {},
     "output_type": "execute_result"
    }
   ],
   "source": [
    "map(int,\"1 0 0 1 1 0 0 1\".split())"
   ]
  },
  {
   "cell_type": "code",
   "execution_count": null,
   "metadata": {},
   "outputs": [],
   "source": []
  }
 ],
 "metadata": {
  "kernelspec": {
   "display_name": "quantum",
   "language": "python",
   "name": "python3"
  },
  "language_info": {
   "codemirror_mode": {
    "name": "ipython",
    "version": 3
   },
   "file_extension": ".py",
   "mimetype": "text/x-python",
   "name": "python",
   "nbconvert_exporter": "python",
   "pygments_lexer": "ipython3",
   "version": "3.12.4"
  }
 },
 "nbformat": 4,
 "nbformat_minor": 2
}
