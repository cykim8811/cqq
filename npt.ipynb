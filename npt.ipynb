{
 "cells": [
  {
   "cell_type": "code",
   "execution_count": 49,
   "metadata": {},
   "outputs": [],
   "source": [
    "import numpy as np\n",
    "import tensornetwork as tn"
   ]
  },
  {
   "cell_type": "code",
   "execution_count": 95,
   "metadata": {},
   "outputs": [
    {
     "data": {
      "text/plain": [
       "(4, 4)"
      ]
     },
     "execution_count": 95,
     "metadata": {},
     "output_type": "execute_result"
    }
   ],
   "source": [
    "CX = np.array([\n",
    "    [1, 0, 0, 0],\n",
    "    [0, 1, 0, 0],\n",
    "    [0, 0, 0, 1],\n",
    "    [0, 0, 1, 0],\n",
    "])\n",
    "CX.shape"
   ]
  },
  {
   "cell_type": "code",
   "execution_count": 96,
   "metadata": {},
   "outputs": [
    {
     "data": {
      "text/plain": [
       "(2, 2, 2, 2)"
      ]
     },
     "execution_count": 96,
     "metadata": {},
     "output_type": "execute_result"
    }
   ],
   "source": [
    "CXT = CX.reshape(2, 2, 2, 2)\n",
    "CXTN = tn.Node(CXT)\n",
    "CXTN.tensor.shape"
   ]
  },
  {
   "cell_type": "code",
   "execution_count": 102,
   "metadata": {},
   "outputs": [
    {
     "name": "stdout",
     "output_type": "stream",
     "text": [
      "(2, 2, 4) (4, 2, 2)\n"
     ]
    }
   ],
   "source": [
    "A, S, B, _ = tn.split_node_full_svd(CXTN, [CXTN.edges[0], CXTN.edges[2]], [CXTN.edges[1], CXTN.edges[3]], left_name='A', right_name='B', middle_name='S')\n",
    "B.tensor = B.tensor * np.sqrt(2)\n",
    "print(A.tensor.shape, B.tensor.shape)      # (a_in, a_out, internal), (internal, b_in, b_out)"
   ]
  },
  {
   "cell_type": "code",
   "execution_count": 103,
   "metadata": {},
   "outputs": [
    {
     "name": "stdout",
     "output_type": "stream",
     "text": [
      "(2, 2, 4) (4, 2, 2)\n"
     ]
    }
   ],
   "source": [
    "PA, PS, PB, _ = tn.split_node_full_svd(CXTN, [CXTN.edges[0], CXTN.edges[2]], [CXTN.edges[1], CXTN.edges[3]], left_name=\"PA\", right_name=\"PB\", middle_name=\"PS\")\n",
    "PB.tensor = PB.tensor * np.sqrt(2)\n",
    "print(PA.tensor.shape, PB.tensor.shape)     # (a_in, a_out, internal), (internal, b_in, b_out)"
   ]
  },
  {
   "cell_type": "code",
   "execution_count": 104,
   "metadata": {},
   "outputs": [
    {
     "data": {
      "text/plain": [
       "\n",
       "Edge('B'[2] -> 'PB'[1] )"
      ]
     },
     "execution_count": 104,
     "metadata": {},
     "output_type": "execute_result"
    }
   ],
   "source": [
    "A[1] ^ PA[0]\n",
    "B[2] ^ PB[1]"
   ]
  },
  {
   "cell_type": "code",
   "execution_count": 105,
   "metadata": {},
   "outputs": [
    {
     "data": {
      "image/png": "[encoded data removed]",
      "text/plain": [
       "<Figure size 640x480 with 1 Axes>"
      ]
     },
     "metadata": {},
     "output_type": "display_data"
    }
   ],
   "source": [
    "# Display\n",
    "import matplotlib.pyplot as plt\n",
    "from tensornetwork.visualization import graphviz\n",
    "graph = graphviz.to_graphviz([A, PA, S, PS, PB, B])\n",
    "graph_image = graph.render(format='png', cleanup=True)\n",
    "plt.imshow(plt.imread(graph_image))\n",
    "plt.axis('off')\n",
    "plt.show()"
   ]
  },
  {
   "cell_type": "code",
   "execution_count": 106,
   "metadata": {},
   "outputs": [
    {
     "name": "stdout",
     "output_type": "stream",
     "text": [
      "(2, 2, 2, 2)\n",
      "[[1. 0. 0. 0.]\n",
      " [0. 1. 0. 0.]\n",
      " [0. 0. 1. 0.]\n",
      " [0. 0. 0. 1.]]\n"
     ]
    }
   ],
   "source": [
    "res = tn.contractors.auto([A, PA, S, PS, PB, B], output_edge_order=[A[0], B[1], PA[1], PB[2]])\n",
    "print(res.tensor.shape)\n",
    "print(res.tensor.reshape((4, 4)))"
   ]
  },
  {
   "cell_type": "code",
   "execution_count": 109,
   "metadata": {},
   "outputs": [
    {
     "data": {
      "text/plain": [
       "array([[1., 0., 0., 1.],\n",
       "       [0., 0., 0., 0.],\n",
       "       [0., 0., 0., 0.],\n",
       "       [1., 0., 0., 1.]])"
      ]
     },
     "execution_count": 109,
     "metadata": {},
     "output_type": "execute_result"
    }
   ],
   "source": [
    "I = np.eye(4)\n",
    "I.reshape((2, 2, 2, 2)).transpose((0, 2, 1, 3)).reshape((4, 4))"
   ]
  },
  {
   "cell_type": "code",
   "execution_count": null,
   "metadata": {},
   "outputs": [],
   "source": []
  },
  {
   "cell_type": "code",
   "execution_count": null,
   "metadata": {},
   "outputs": [],
   "source": []
  }
 ],
 "metadata": {
  "kernelspec": {
   "display_name": "quantum",
   "language": "python",
   "name": "python3"
  },
  "language_info": {
   "codemirror_mode": {
    "name": "ipython",
    "version": 3
   },
   "file_extension": ".py",
   "mimetype": "text/x-python",
   "name": "python",
   "nbconvert_exporter": "python",
   "pygments_lexer": "ipython3",
   "version": "3.12.4"
  }
 },
 "nbformat": 4,
 "nbformat_minor": 2
}
