{
 "cells": [
  {
   "cell_type": "code",
   "execution_count": 20,
   "metadata": {},
   "outputs": [],
   "source": [
    "import numpy as np\n",
    "import matplotlib.pyplot as plt\n",
    "import tensornetwork as tn"
   ]
  },
  {
   "cell_type": "code",
   "execution_count": 21,
   "metadata": {},
   "outputs": [],
   "source": [
    "CX = np.array([\n",
    "    [1, 0, 0, 0],\n",
    "    [0, 1, 0, 0],\n",
    "    [0, 0, 0, 1],\n",
    "    [0, 0, 1, 0]\n",
    "])"
   ]
  },
  {
   "cell_type": "code",
   "execution_count": 22,
   "metadata": {},
   "outputs": [
    {
     "data": {
      "text/plain": [
       "array([[1, 0, 0, 1],\n",
       "       [0, 0, 0, 0],\n",
       "       [0, 0, 0, 0],\n",
       "       [0, 1, 1, 0]])"
      ]
     },
     "execution_count": 22,
     "metadata": {},
     "output_type": "execute_result"
    }
   ],
   "source": [
    "tCX = tn.Node(CX, name='CX')\n"
   ]
  },
  {
   "cell_type": "code",
   "execution_count": 23,
   "metadata": {},
   "outputs": [
    {
     "name": "stdout",
     "output_type": "stream",
     "text": [
      "[[ 1.  0.  0.  0.]\n",
      " [ 0.  0.  1.  0.]\n",
      " [ 0.  0.  0. -1.]\n",
      " [ 0. -1.  0.  0.]]\n",
      "[1.41421356 1.41421356 0.         0.        ]\n",
      "[[ 0.70710678  0.          0.          0.70710678]\n",
      " [-0.         -0.70710678 -0.70710678  0.        ]\n",
      " [ 0.70710678  0.          0.         -0.70710678]\n",
      " [ 0.         -0.70710678  0.70710678  0.        ]]\n"
     ]
    }
   ],
   "source": []
  },
  {
   "cell_type": "code",
   "execution_count": 26,
   "metadata": {},
   "outputs": [
    {
     "name": "stdout",
     "output_type": "stream",
     "text": [
      "[[[ 1.  0.  0.  0.]\n",
      "  [ 0.  0.  1.  0.]]\n",
      "\n",
      " [[ 0.  0.  0. -1.]\n",
      "  [ 0. -1.  0.  0.]]]\n",
      "[[[ 1. -0.  1.  0.]\n",
      "  [ 0. -1.  0. -1.]]\n",
      "\n",
      " [[ 0. -1.  0.  1.]\n",
      "  [ 1.  0. -1.  0.]]]\n"
     ]
    }
   ],
   "source": [
    "A = U.reshape((2, 2, 4))\n",
    "B = Vh.T.reshape((2, 2, 4)) * np.sqrt(2)\n",
    "print(A)\n",
    "print(B)"
   ]
  },
  {
   "cell_type": "code",
   "execution_count": 36,
   "metadata": {},
   "outputs": [
    {
     "data": {
      "image/png": "[encoded data removed]",
      "text/plain": [
       "<Figure size 640x480 with 1 Axes>"
      ]
     },
     "metadata": {},
     "output_type": "display_data"
    }
   ],
   "source": [
    "\n",
    "tA1 = tn.Node(A, name='A1')\n",
    "tB1 = tn.Node(B, name='B1')\n",
    "tA2 = tn.Node(A, name='A2')\n",
    "tB2 = tn.Node(B, name='B2')\n",
    "\n",
    "_ = tA1[2] ^ tB1[2]\n",
    "_ = tA2[2] ^ tB2[2]\n",
    "\n",
    "e1 = tA1[1] ^ tA2[0]\n",
    "e2 = tB1[1] ^ tB2[0]\n",
    "\n",
    "cA = tn.contract(e1, name='cA')\n",
    "cB = tn.contract(e2, name='cB')\n",
    "\n",
    "\n",
    "\n",
    "\n",
    "graph = tn.to_graphviz([cA, cB])\n",
    "\n",
    "graph_image = graph.render(format='png', cleanup=True)\n",
    "plt.imshow(plt.imread(graph_image))\n",
    "plt.axis('off')\n",
    "plt.show()"
   ]
  },
  {
   "cell_type": "code",
   "execution_count": null,
   "metadata": {},
   "outputs": [],
   "source": []
  },
  {
   "cell_type": "code",
   "execution_count": null,
   "metadata": {},
   "outputs": [],
   "source": []
  },
  {
   "cell_type": "code",
   "execution_count": null,
   "metadata": {},
   "outputs": [],
   "source": []
  }
 ],
 "metadata": {
  "kernelspec": {
   "display_name": "quantum",
   "language": "python",
   "name": "python3"
  },
  "language_info": {
   "codemirror_mode": {
    "name": "ipython",
    "version": 3
   },
   "file_extension": ".py",
   "mimetype": "text/x-python",
   "name": "python",
   "nbconvert_exporter": "python",
   "pygments_lexer": "ipython3",
   "version": "3.12.4"
  }
 },
 "nbformat": 4,
 "nbformat_minor": 2
}
