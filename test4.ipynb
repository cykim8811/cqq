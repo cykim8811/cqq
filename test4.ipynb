{
 "cells": [
  {
   "cell_type": "code",
   "execution_count": 1,
   "metadata": {},
   "outputs": [],
   "source": [
    "import numpy as np\n",
    "import tensornetwork as tn"
   ]
  },
  {
   "cell_type": "code",
   "execution_count": 47,
   "metadata": {},
   "outputs": [],
   "source": [
    "# CX gate\n",
    "CX = tn.Node(np.array([\n",
    "    [1, 0, 0, 0],\n",
    "    [0, 1, 0, 0],\n",
    "    [0, 0, 0, 1],\n",
    "    [0, 0, 1, 0],\n",
    "]).reshape(2, 2, 2, 2))"
   ]
  },
  {
   "cell_type": "code",
   "execution_count": 95,
   "metadata": {},
   "outputs": [
    {
     "data": {
      "text/plain": [
       "(2, 2, 2, 2)"
      ]
     },
     "execution_count": 95,
     "metadata": {},
     "output_type": "execute_result"
    }
   ],
   "source": [
    "# Random 4x4 unitary matrix\n",
    "U = tn.Node(np.random.rand(4, 4).reshape(2, 2, 2, 2))\n",
    "U.tensor.shape"
   ]
  },
  {
   "cell_type": "code",
   "execution_count": 49,
   "metadata": {},
   "outputs": [],
   "source": [
    "def untangle(U):  # 2, 2, 2, 2\n",
    "    U = U.copy()\n",
    "    mtr = U.tensor[:, 0, :, :].reshape(2, 4)\n",
    "    v = mtr[0] - mtr[1]\n",
    "    v = 1 / np.array([v[0] + v[3], v[2] - v[1]])\n",
    "    v = v / np.linalg.norm(v)\n",
    "    v = np.array([v[0], v[1], -v[1], v[0]]).repeat(2)\n",
    "    Z = tn.Node(np.array([1, 0]))\n",
    "    kd = tn.Node(np.array([1, 0, 0, 0, 0, 0, 0, 1]).reshape(2, 2, 2))\n",
    "    T = tn.Node(v.reshape(2, 2, 2))\n",
    "    tn.connect(U[1], Z[0])\n",
    "    tn.connect(U[2], kd[0])\n",
    "    tn.connect(U[3], T[1])\n",
    "    tn.connect(T[0], kd[1])\n",
    "    R = tn.contractors.auto([U, Z, kd, T], output_edge_order=[U[0], kd[2], T[2]])\n",
    "    return R\n"
   ]
  },
  {
   "cell_type": "code",
   "execution_count": 79,
   "metadata": {},
   "outputs": [
    {
     "name": "stdout",
     "output_type": "stream",
     "text": [
      "rank 1\n",
      "[0.19624682 0.19624682 0.45787439 0.45787439]\n"
     ]
    }
   ],
   "source": [
    "V = untangle(U)\n",
    "Vf = V.tensor.reshape(4, 2)\n",
    "print(\"rank\", np.linalg.matrix_rank(Vf))\n",
    "\n",
    "print(np.pow(V.tensor.reshape(2, 4), 2).sum(axis=0))"
   ]
  },
  {
   "cell_type": "code",
   "execution_count": 83,
   "metadata": {},
   "outputs": [
    {
     "name": "stdout",
     "output_type": "stream",
     "text": [
      "[0.600493   0.1133945  0.73987921 0.70893583]\n"
     ]
    }
   ],
   "source": [
    "print(np.pow(U.tensor[:, 0].reshape(4, 2), 2).sum(axis=1)) "
   ]
  },
  {
   "cell_type": "code",
   "execution_count": 99,
   "metadata": {},
   "outputs": [
    {
     "data": {
      "text/plain": [
       "array([0.02711404, 0.50097418, 0.24863283, 0.23912974])"
      ]
     },
     "execution_count": 99,
     "metadata": {},
     "output_type": "execute_result"
    }
   ],
   "source": [
    "T = U.tensor.copy()\n",
    "T = T[:, 0]\n",
    "T = T ** 2\n",
    "T = T.sum(axis=2)\n",
    "T.flatten()\n"
   ]
  }
 ],
 "metadata": {
  "kernelspec": {
   "display_name": "quantum",
   "language": "python",
   "name": "python3"
  },
  "language_info": {
   "codemirror_mode": {
    "name": "ipython",
    "version": 3
   },
   "file_extension": ".py",
   "mimetype": "text/x-python",
   "name": "python",
   "nbconvert_exporter": "python",
   "pygments_lexer": "ipython3",
   "version": "3.12.4"
  }
 },
 "nbformat": 4,
 "nbformat_minor": 2
}
