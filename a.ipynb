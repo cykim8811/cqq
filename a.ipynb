{
 "cells": [
  {
   "cell_type": "code",
   "execution_count": 1,
   "metadata": {},
   "outputs": [],
   "source": [
    "import numpy as np"
   ]
  },
  {
   "cell_type": "code",
   "execution_count": 2,
   "metadata": {},
   "outputs": [],
   "source": [
    "def calc_rank(T, num_a, num_b):\n",
    "    l = []\n",
    "    l += list(range(0, num_a))\n",
    "    l += list(range(num_a + num_b, num_a + num_b + num_a))\n",
    "    l += list(range(num_a, num_a + num_b))\n",
    "    l += list(range(num_a + num_b + num_a, num_a + num_b + num_a + num_b))\n",
    "    TT = T.reshape([2] * (num_a * 2) + [2] * (num_b * 2))\n",
    "    TT = TT.transpose(*l)\n",
    "    TT = TT.reshape([2 ** (num_a * 2), 2 ** (num_b * 2)])\n",
    "    _, S, _ = np.linalg.svd(TT)\n",
    "    return sum(S > 1e-10)"
   ]
  },
  {
   "cell_type": "code",
   "execution_count": 3,
   "metadata": {},
   "outputs": [
    {
     "name": "stdout",
     "output_type": "stream",
     "text": [
      "1\n"
     ]
    }
   ],
   "source": [
    "# random 2x2 unitary matrix\n",
    "U = np.random.rand(2, 2) + 1j * np.random.rand(2, 2)\n",
    "U, _ = np.linalg.qr(U)\n",
    "\n",
    "UU = np.kron(U, U)\n",
    "print(calc_rank(UU, 1, 1))"
   ]
  },
  {
   "cell_type": "code",
   "execution_count": 4,
   "metadata": {},
   "outputs": [
    {
     "name": "stdout",
     "output_type": "stream",
     "text": [
      "4\n"
     ]
    }
   ],
   "source": [
    "# random 4x4 unitary matrix\n",
    "U = np.random.rand(4, 4) + 1j * np.random.rand(4, 4)\n",
    "U, _ = np.linalg.qr(U)\n",
    "\n",
    "print(calc_rank(U, 1, 1))"
   ]
  },
  {
   "cell_type": "code",
   "execution_count": 5,
   "metadata": {},
   "outputs": [],
   "source": [
    "# 3 qubits - 5 qubits\n",
    "# A = 2x2x2 x 2x2x2x2x2  x  2x2x2 x 2x2x2x2x2\n",
    "# Finding B, C  s.t.  A  ~~  B ⊗ C  where B = 2x2x2 x 2x2x2 and C = 2x2x2x2x2 x 2x2x2x2x2\n",
    "#\n",
    "# R = 2x2x2 x 2x2x2  x  2x2x2x2x2 x 2x2x2x2x2 (A transposed)\n",
    "# Finding B, C  s.t.  R  ~~  B ⊗ C  where B = 2x2x2 x 2x2x2x2x2 and C = 2x2x2 x 2x2x2x2x2\n",
    "# By reshaping R, we get (2^3 x 2) x (2^5 x 2) matrix\n",
    "# Applying SVD to this matrix, we get the rank of R"
   ]
  },
  {
   "cell_type": "code",
   "execution_count": 6,
   "metadata": {},
   "outputs": [],
   "source": [
    "n_a = 3\n",
    "n_b = 5\n",
    "A = np.random.rand(2**n_a, 2**n_a) + 1j * np.random.rand(2**n_a, 2**n_a)\n",
    "A, _ = np.linalg.qr(A)\n",
    "\n",
    "B = np.random.rand(2**n_b, 2**n_b) + 1j * np.random.rand(2**n_b, 2**n_b)\n",
    "B, _ = np.linalg.qr(B)"
   ]
  },
  {
   "cell_type": "code",
   "execution_count": 7,
   "metadata": {},
   "outputs": [
    {
     "name": "stdout",
     "output_type": "stream",
     "text": [
      "1\n"
     ]
    }
   ],
   "source": [
    "T = np.kron(A, B)\n",
    "print(calc_rank(T, 3, 5))"
   ]
  },
  {
   "cell_type": "code",
   "execution_count": 2,
   "metadata": {},
   "outputs": [
    {
     "name": "stdout",
     "output_type": "stream",
     "text": [
      "[[[ 1.  0.  0.  0.]\n",
      "  [ 0.  0.  1.  0.]]\n",
      "\n",
      " [[ 0.  0.  0. -1.]\n",
      "  [ 0. -1.  0.  0.]]]\n",
      "[[[ 0.70710678 -0.          0.70710678  0.        ]\n",
      "  [ 0.         -0.70710678  0.         -0.70710678]]\n",
      "\n",
      " [[ 0.         -0.70710678  0.          0.70710678]\n",
      "  [ 0.70710678  0.         -0.70710678  0.        ]]]\n"
     ]
    }
   ],
   "source": [
    "import numpy as np\n",
    "CX = np.array([[1, 0, 0, 0], [0, 1, 0, 0], [0, 0, 0, 1], [0, 0, 1, 0]])\n",
    "CXT = CX.reshape([2, 2, 2, 2]).transpose(0, 2, 1, 3).reshape(4, 4)\n",
    "U, S, Vh = np.linalg.svd(CXT)\n",
    "print(U.reshape((2, 2, 4)))\n",
    "# print(S)\n",
    "print(Vh.reshape((4, 2, 2)).transpose(1, 2, 0))"
   ]
  },
  {
   "cell_type": "code",
   "execution_count": 18,
   "metadata": {},
   "outputs": [
    {
     "data": {
      "text/plain": [
       "array([[1, 2, 3, 4],\n",
       "       [0, 0, 0, 0],\n",
       "       [0, 0, 0, 0],\n",
       "       [5, 6, 7, 8]])"
      ]
     },
     "execution_count": 18,
     "metadata": {},
     "output_type": "execute_result"
    }
   ],
   "source": [
    "a = np.array([\n",
    "    [1, 2, 0, 0],\n",
    "    [3, 4, 0, 0],\n",
    "    [0, 0, 5, 6],\n",
    "    [0, 0, 7, 8]\n",
    "])\n",
    "\n",
    "# a into 2x2x2x2 tensor\n",
    "a.reshape([2, 2, 2, 2]).transpose(0, 2, 1, 3).reshape(4, 4)"
   ]
  },
  {
   "cell_type": "code",
   "execution_count": 3,
   "metadata": {},
   "outputs": [
    {
     "name": "stdout",
     "output_type": "stream",
     "text": [
      "(6, 6) (4,) (4, 4)\n"
     ]
    }
   ],
   "source": [
    "import numpy as np\n",
    "\n",
    "arr = np.random.rand(6, 4)\n",
    "\n",
    "# SVD\n",
    "\n",
    "U, S, V = np.linalg.svd(arr)\n",
    "\n",
    "print(U.shape, S.shape, V.shape)"
   ]
  },
  {
   "cell_type": "code",
   "execution_count": null,
   "metadata": {},
   "outputs": [],
   "source": []
  }
 ],
 "metadata": {
  "kernelspec": {
   "display_name": "quantum",
   "language": "python",
   "name": "python3"
  },
  "language_info": {
   "codemirror_mode": {
    "name": "ipython",
    "version": 3
   },
   "file_extension": ".py",
   "mimetype": "text/x-python",
   "name": "python",
   "nbconvert_exporter": "python",
   "pygments_lexer": "ipython3",
   "version": "3.12.4"
  }
 },
 "nbformat": 4,
 "nbformat_minor": 2
}
