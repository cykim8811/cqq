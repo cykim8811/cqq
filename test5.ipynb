{
 "cells": [
  {
   "cell_type": "code",
   "execution_count": 9,
   "metadata": {},
   "outputs": [
    {
     "ename": "ModuleNotFoundError",
     "evalue": "No module named 'torch'",
     "output_type": "error",
     "traceback": [
      "\u001b[0;31m---------------------------------------------------------------------------\u001b[0m",
      "\u001b[0;31mModuleNotFoundError\u001b[0m                       Traceback (most recent call last)",
      "Cell \u001b[0;32mIn[9], line 1\u001b[0m\n\u001b[0;32m----> 1\u001b[0m \u001b[38;5;28;01mimport\u001b[39;00m \u001b[38;5;21;01mtorch\u001b[39;00m\n\u001b[1;32m      2\u001b[0m \u001b[38;5;28;01mimport\u001b[39;00m \u001b[38;5;21;01mnumpy\u001b[39;00m \u001b[38;5;28;01mas\u001b[39;00m \u001b[38;5;21;01mnp\u001b[39;00m\n\u001b[1;32m      4\u001b[0m \u001b[38;5;66;03m# 랜덤 시드 설정\u001b[39;00m\n",
      "\u001b[0;31mModuleNotFoundError\u001b[0m: No module named 'torch'"
     ]
    }
   ],
   "source": [
    "import torch\n",
    "import numpy as np\n",
    "\n",
    "# 랜덤 시드 설정\n",
    "torch.manual_seed(42)\n",
    "np.random.seed(42)\n",
    "\n",
    "# mat1을 랜덤한 tensor로 초기화\n",
    "mat1 = torch.tensor(np.random.randn(5, 3).astype(np.float32), requires_grad=False)\n",
    "\n",
    "# mat2를 랜덤한 tensor로 초기화하고 최적화 대상으로 지정\n",
    "initial_mat2 = np.random.randn(3, 4).astype(np.float32)\n",
    "mat2 = torch.tensor(initial_mat2, requires_grad=True)\n",
    "\n",
    "# 최적화 함수 정의\n",
    "optimizer = torch.optim.Adam([mat2], lr=0.01)\n",
    "\n",
    "# 학습 루프\n",
    "for step in range(1000):\n",
    "    # mat1과 mat2의 행렬곱 계산\n",
    "    product = torch.matmul(mat1, mat2)\n",
    "    \n",
    "    # SVD를 사용하여 특이값 계산\n",
    "    _, s, _ = torch.svd(product)\n",
    "    \n",
    "    # 목적 함수: 두 번째로 큰 특이값 최소화\n",
    "    loss = s[1]  # 특이값은 내림차순으로 정렬되어 있음\n",
    "    \n",
    "    # 역전파 및 최적화 단계\n",
    "    optimizer.zero_grad()\n",
    "    loss.backward()\n",
    "    optimizer.step()\n",
    "    \n",
    "    if step % 100 == 0:\n",
    "        print(f\"Step {step}, Loss: {loss.item()}\")\n",
    "\n",
    "# 최종 결과 출력\n",
    "with torch.no_grad():\n",
    "    final_product = torch.matmul(mat1, mat2)\n",
    "    _, s_final, _ = torch.svd(final_product)\n",
    "    print(\"\\nFinal singular values:\", s_final.numpy())\n",
    "    print(\"Final rank:\", torch.sum(s_final > 1e-5).item())  # 임계값 이상의 특이값 개수로 rank 추정\n",
    "\n",
    "    print(\"\\nFinal mat1:\")\n",
    "    print(mat1.numpy())\n",
    "    print(\"\\nFinal mat2:\")\n",
    "    print(mat2.numpy())\n",
    "    print(\"\\nFinal product (mat1 @ mat2):\")\n",
    "    print(final_product.numpy())"
   ]
  },
  {
   "cell_type": "code",
   "execution_count": null,
   "metadata": {},
   "outputs": [],
   "source": []
  }
 ],
 "metadata": {
  "kernelspec": {
   "display_name": "quantum",
   "language": "python",
   "name": "python3"
  },
  "language_info": {
   "codemirror_mode": {
    "name": "ipython",
    "version": 3
   },
   "file_extension": ".py",
   "mimetype": "text/x-python",
   "name": "python",
   "nbconvert_exporter": "python",
   "pygments_lexer": "ipython3",
   "version": "3.12.4"
  }
 },
 "nbformat": 4,
 "nbformat_minor": 2
}
